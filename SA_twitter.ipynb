{
  "nbformat": 4,
  "nbformat_minor": 0,
  "metadata": {
    "kernelspec": {
      "display_name": "Python 3 (ipykernel)",
      "language": "python",
      "name": "python3"
    },
    "language_info": {
      "codemirror_mode": {
        "name": "ipython",
        "version": 3
      },
      "file_extension": ".py",
      "mimetype": "text/x-python",
      "name": "python",
      "nbconvert_exporter": "python",
      "pygments_lexer": "ipython3",
      "version": "3.8.5"
    },
    "colab": {
      "name": "SA twitter.ipynb",
      "provenance": []
    }
  },
  "cells": [
    {
      "cell_type": "markdown",
      "metadata": {
        "id": "8wesPKIfLdMe"
      },
      "source": [
        "Sentiment Analysis Twitter"
      ]
    },
    {
      "cell_type": "code",
      "metadata": {
        "id": "TX0RFpwYLdMg"
      },
      "source": [
        "#lib for data maniulation\n",
        "import numpy as np\n",
        "import pandas as pd\n",
        "import re\n",
        "import string"
      ],
      "execution_count": null,
      "outputs": []
    },
    {
      "cell_type": "code",
      "metadata": {
        "id": "8bHnPCFzLdMh"
      },
      "source": [
        "#lib for  visualization\n",
        "import matplotlib.pyplot \n",
        "import seaborn as sns\n",
        "from wordcloud import WordCloud"
      ],
      "execution_count": null,
      "outputs": []
    },
    {
      "cell_type": "code",
      "metadata": {
        "id": "qAwViydFLdMi"
      },
      "source": [
        "#lib for text processing\n",
        "import nltk\n",
        "from nltk.corpus import stopwords\n",
        "from nltk.tokenize import word_tokenize\n",
        "from nltk.stem import PorterStemmer\n",
        "from nltk.stem import WordNetLemmatizer\n",
        "from sklearn.feature_extraction.text import TfidfVectorizer\n",
        "from sklearn.model_selection import train_test_split\n",
        "from nltk.tokenize import RegexpTokenizer"
      ],
      "execution_count": null,
      "outputs": []
    },
    {
      "cell_type": "code",
      "metadata": {
        "id": "9Kc6ukbNLdMi"
      },
      "source": [
        "#lib for ml algo\n",
        "from sklearn.svm import LinearSVC\n",
        "from sklearn.naive_bayes import BernoulliNB\n",
        "from sklearn.linear_model import LogisticRegression\n",
        "from sklearn.model_selection import train_test_split\n",
        "from sklearn.feature_extraction.text import TfidfVectorizer\n",
        "from sklearn.metrics import confusion_matrix, classification_report\n",
        "from nltk.stem import PorterStemmer as PS"
      ],
      "execution_count": null,
      "outputs": []
    },
    {
      "cell_type": "code",
      "metadata": {
        "tags": [],
        "id": "q9q6ttiZLdMi"
      },
      "source": [
        "#lib to test accuracy\n",
        "from sklearn.metrics import accuracy_score"
      ],
      "execution_count": null,
      "outputs": []
    },
    {
      "cell_type": "code",
      "metadata": {
        "id": "YOHspBMvLdMj",
        "outputId": "8b1abf11-627c-4cd6-e201-abc8b2a51244"
      },
      "source": [
        "#stopword\n",
        "import nltk\n",
        "nltk.download ('stopwords')\n",
        "stop_words = set(stopwords.words('english'))"
      ],
      "execution_count": null,
      "outputs": [
        {
          "name": "stderr",
          "output_type": "stream",
          "text": [
            "[nltk_data] Downloading package stopwords to\n",
            "[nltk_data]     C:\\Users\\HP\\AppData\\Roaming\\nltk_data...\n",
            "[nltk_data]   Package stopwords is already up-to-date!\n"
          ]
        }
      ]
    },
    {
      "cell_type": "code",
      "metadata": {
        "id": "_723rDlpLdMk",
        "outputId": "5ef4cf0d-8743-45a9-b583-9ec4213df15b"
      },
      "source": [
        "#Dataset\n",
        "dataset_columns = ['target','ids','date','flag','user','text']\n",
        "data_encoding = \"ISO-8859-1\"\n",
        "df = pd.read_csv('sa_twt_dataset.csv', encoding = data_encoding, names = dataset_columns)\n",
        "df.sample(2)"
      ],
      "execution_count": null,
      "outputs": [
        {
          "data": {
            "text/html": [
              "<div>\n",
              "<style scoped>\n",
              "    .dataframe tbody tr th:only-of-type {\n",
              "        vertical-align: middle;\n",
              "    }\n",
              "\n",
              "    .dataframe tbody tr th {\n",
              "        vertical-align: top;\n",
              "    }\n",
              "\n",
              "    .dataframe thead th {\n",
              "        text-align: right;\n",
              "    }\n",
              "</style>\n",
              "<table border=\"1\" class=\"dataframe\">\n",
              "  <thead>\n",
              "    <tr style=\"text-align: right;\">\n",
              "      <th></th>\n",
              "      <th>target</th>\n",
              "      <th>ids</th>\n",
              "      <th>date</th>\n",
              "      <th>flag</th>\n",
              "      <th>user</th>\n",
              "      <th>text</th>\n",
              "    </tr>\n",
              "  </thead>\n",
              "  <tbody>\n",
              "    <tr>\n",
              "      <th>1140194</th>\n",
              "      <td>4</td>\n",
              "      <td>1977016373</td>\n",
              "      <td>Sat May 30 19:52:45 PDT 2009</td>\n",
              "      <td>NO_QUERY</td>\n",
              "      <td>vickybeeching</td>\n",
              "      <td>Thanks @pursuingyahweh for a great night at yo...</td>\n",
              "    </tr>\n",
              "    <tr>\n",
              "      <th>338950</th>\n",
              "      <td>0</td>\n",
              "      <td>2014540375</td>\n",
              "      <td>Wed Jun 03 01:52:34 PDT 2009</td>\n",
              "      <td>NO_QUERY</td>\n",
              "      <td>emmbabee</td>\n",
              "      <td>making honey joys!! yummm. hating the rain  bu...</td>\n",
              "    </tr>\n",
              "  </tbody>\n",
              "</table>\n",
              "</div>"
            ],
            "text/plain": [
              "         target         ids                          date      flag  \\\n",
              "1140194       4  1977016373  Sat May 30 19:52:45 PDT 2009  NO_QUERY   \n",
              "338950        0  2014540375  Wed Jun 03 01:52:34 PDT 2009  NO_QUERY   \n",
              "\n",
              "                  user                                               text  \n",
              "1140194  vickybeeching  Thanks @pursuingyahweh for a great night at yo...  \n",
              "338950        emmbabee  making honey joys!! yummm. hating the rain  bu...  "
            ]
          },
          "execution_count": 92,
          "metadata": {},
          "output_type": "execute_result"
        }
      ]
    },
    {
      "cell_type": "code",
      "metadata": {
        "id": "4PitkORsLdMl",
        "outputId": "0992c51b-4c34-4a5e-e027-06af179656e1"
      },
      "source": [
        "#features of dataset\n",
        "df.dtypes\n",
        "print(np.sum(df.isnull().any(axis=1)))\n",
        "print('rows',len(df),\"--\",\"columns\",len(df.columns))\n"
      ],
      "execution_count": null,
      "outputs": [
        {
          "name": "stdout",
          "output_type": "stream",
          "text": [
            "0\n",
            "rows 1600000 -- columns 6\n"
          ]
        }
      ]
    },
    {
      "cell_type": "code",
      "metadata": {
        "id": "C3ppk3KnLdMl",
        "outputId": "947ac2f7-c8b6-49ca-e3b4-7ccb1ea9656b"
      },
      "source": [
        "#visualization\n",
        "ax = df.groupby('target').count().plot(kind='bar', title='Distribution of data',legend=False)\n",
        "ax.set_xticklabels(['Negative','Positive'], rotation=0)\n",
        "\n",
        "text, sentiment = list(df['text']), list(df['target'])\n",
        "\n",
        "sns.countplot(x='target', data = df)"
      ],
      "execution_count": null,
      "outputs": [
        {
          "data": {
            "text/plain": [
              "<AxesSubplot:title={'center':'Distribution of data'}, xlabel='target', ylabel='count'>"
            ]
          },
          "execution_count": 94,
          "metadata": {},
          "output_type": "execute_result"
        },
        {
          "data": {
            "image/png": "[encoded data removed]",
            "text/plain": [
              "<Figure size 432x288 with 1 Axes>"
            ]
          },
          "metadata": {
            "needs_background": "light"
          },
          "output_type": "display_data"
        }
      ]
    },
    {
      "cell_type": "code",
      "metadata": {
        "id": "_L85J1MKLdMm",
        "outputId": "4fe68479-ff8e-4b41-886a-ad7e6fc7bd36"
      },
      "source": [
        "#preprosessing\n",
        "data = df[['text','target']]\n",
        "data['target'] = data['target'].replace(4,1)\n",
        "data['target'].unique()\n",
        "#separat\n",
        "data_p = data[data['target'] == 1]\n",
        "data_n = data[data['target'] == 0]\n",
        "\n",
        "data_p = data_p.iloc[:int(20000)]\n",
        "data_n = data_n.iloc[:int(20000)]\n",
        "\n",
        "tweets = pd.concat([data_p, data_n])"
      ],
      "execution_count": null,
      "outputs": [
        {
          "name": "stderr",
          "output_type": "stream",
          "text": [
            "C:\\Users\\HP\\AppData\\Local\\Temp/ipykernel_11036/1109874540.py:3: SettingWithCopyWarning: \n",
            "A value is trying to be set on a copy of a slice from a DataFrame.\n",
            "Try using .loc[row_indexer,col_indexer] = value instead\n",
            "\n",
            "See the caveats in the documentation: https://pandas.pydata.org/pandas-docs/stable/user_guide/indexing.html#returning-a-view-versus-a-copy\n",
            "  data['target'] = data['target'].replace(4,1)\n"
          ]
        }
      ]
    },
    {
      "cell_type": "code",
      "metadata": {
        "id": "qoesMKnVLdMm",
        "outputId": "aa25b795-83db-42da-d6bd-7c054bea11ef"
      },
      "source": [
        "tweets['text'] = tweets['text'].str.lower\n",
        "tweets['text'].tail()"
      ],
      "execution_count": null,
      "outputs": [
        {
          "data": {
            "text/plain": [
              "19995    <bound method StringMethods.lower of <pandas.c...\n",
              "19996    <bound method StringMethods.lower of <pandas.c...\n",
              "19997    <bound method StringMethods.lower of <pandas.c...\n",
              "19998    <bound method StringMethods.lower of <pandas.c...\n",
              "19999    <bound method StringMethods.lower of <pandas.c...\n",
              "Name: text, dtype: object"
            ]
          },
          "execution_count": 103,
          "metadata": {},
          "output_type": "execute_result"
        }
      ]
    },
    {
      "cell_type": "code",
      "metadata": {
        "collapsed": true,
        "jupyter": {
          "outputs_hidden": true
        },
        "tags": [],
        "id": "vI-qS1k4LdMm",
        "outputId": "fa3765ca-65f4-42cb-89f6-7eda93c83dc9"
      },
      "source": [
        "#set of stopwords\n",
        "nltk.download('stopwords')\n",
        "stopwords = set(nltk.corpus.stopwords.words('english'))\n",
        "print(stopwords)\n"
      ],
      "execution_count": null,
      "outputs": [
        {
          "name": "stdout",
          "output_type": "stream",
          "text": [
            "{'at', \"you'll\", 'did', 'hers', 'my', 'an', 'should', 'them', 'from', 'the', 'wasn', 'hasn', 'have', 'not', \"you're\", 'same', 'and', 'between', \"isn't\", 'just', 'this', 'it', 'down', \"that'll\", 'for', 'to', 'isn', 'shan', \"haven't\", \"wasn't\", 'me', 'has', 'our', \"weren't\", 'because', 'their', 'how', 'had', \"shan't\", \"aren't\", 'too', 'more', 'shouldn', 'with', \"you'd\", 'he', 'while', 'hadn', 'his', 'i', 'you', 'over', 'before', 'but', 'again', \"should've\", 'some', 'further', 'now', 'myself', \"it's\", 'herself', 'when', 'until', 'who', 'mustn', \"doesn't\", 'am', 'very', 'himself', 'off', 'ourselves', \"needn't\", 'below', 'into', 'than', 'up', 'aren', 'both', 'd', 'we', 'she', \"won't\", 'ours', 'that', 'such', 'weren', 'out', 'why', 'there', 'by', \"wouldn't\", 'ain', 'was', \"didn't\", 'does', 'what', \"don't\", \"you've\", 'm', 'having', 'through', 'during', 'own', 'yourself', 's', \"hasn't\", 'other', 'haven', 'which', 'doing', 'll', 'can', 'above', \"hadn't\", 'o', 'most', 'as', 'then', 'whom', 'on', 'couldn', 'themselves', 'so', 'no', 'after', 'few', 'itself', 'against', \"mightn't\", 'won', 'will', \"mustn't\", \"couldn't\", \"shouldn't\", 'y', 'in', 'or', 'all', 'yourselves', \"she's\", 'be', 'been', 'if', 'your', 'those', 'were', 'mightn', 'under', 'yours', 'any', 'her', 'these', 'its', 'do', 've', 'being', 'didn', 'about', 'here', 'of', 'they', 't', 'don', 're', 'only', 'once', 'nor', 'doesn', 'needn', 'are', 'where', 'theirs', 'wouldn', 'is', 'each', 'ma', 'him', 'a'}\n"
          ]
        },
        {
          "name": "stderr",
          "output_type": "stream",
          "text": [
            "[nltk_data] Downloading package stopwords to\n",
            "[nltk_data]     C:\\Users\\HP\\AppData\\Roaming\\nltk_data...\n",
            "[nltk_data]   Package stopwords is already up-to-date!\n"
          ]
        },
        {
          "data": {
            "text/plain": [
              "set"
            ]
          },
          "execution_count": 106,
          "metadata": {},
          "output_type": "execute_result"
        }
      ]
    },
    {
      "cell_type": "code",
      "metadata": {
        "tags": [],
        "id": "DDDeFGtULdMn",
        "outputId": "edc1a0d3-a40d-411a-8725-ffbfe61491fe"
      },
      "source": [
        "#stopword filteration\n",
        "stopwords = set(stopwords)\n",
        "\n",
        "def filtering_stpword(text):\n",
        "    return \"\".join([word for word in str(text).split() if word not in stopwords])\n",
        "tweets[\"text\"] = tweets['text'].apply(lambda text: filtering_stpword(text))\n",
        "tweets[\"text\"].head()"
      ],
      "execution_count": null,
      "outputs": [
        {
          "data": {
            "text/plain": [
              "800000    <boundmethodStringMethods.lower<pandas.core.st...\n",
              "800001    <boundmethodStringMethods.lower<pandas.core.st...\n",
              "800002    <boundmethodStringMethods.lower<pandas.core.st...\n",
              "800003    <boundmethodStringMethods.lower<pandas.core.st...\n",
              "800004    <boundmethodStringMethods.lower<pandas.core.st...\n",
              "Name: text, dtype: object"
            ]
          },
          "execution_count": 121,
          "metadata": {},
          "output_type": "execute_result"
        }
      ]
    },
    {
      "cell_type": "code",
      "metadata": {
        "id": "luWiimD0LdMn",
        "outputId": "2c082404-59b4-4707-c9ab-15da689722ca"
      },
      "source": [
        "#punctuations filteration\n",
        "eng_punc = string.punctuation\n",
        "punc_list = eng_punc\n",
        "\n",
        "def  filtering_punc(text):\n",
        "    translator = str.maketrans('', '', punc_list)\n",
        "    return text.translate(translator)\n",
        "tweets['text'] = tweets['text'].apply(lambda x: filtering_punc(x))\n",
        "tweets['text'].tail()\n"
      ],
      "execution_count": null,
      "outputs": [
        {
          "data": {
            "text/plain": [
              "19995    boundmethodStringMethodslowerpandascorestrings...\n",
              "19996    boundmethodStringMethodslowerpandascorestrings...\n",
              "19997    boundmethodStringMethodslowerpandascorestrings...\n",
              "19998    boundmethodStringMethodslowerpandascorestrings...\n",
              "19999    boundmethodStringMethodslowerpandascorestrings...\n",
              "Name: text, dtype: object"
            ]
          },
          "execution_count": 125,
          "metadata": {},
          "output_type": "execute_result"
        }
      ]
    },
    {
      "cell_type": "code",
      "metadata": {
        "id": "vE8Jj9zHLdMo",
        "outputId": "9804fde7-72b8-4c20-c8ee-00e7873f5f85"
      },
      "source": [
        "#duplication filteration\n",
        "def filtering_repeating_char(text):\n",
        "    return re.sub(r'(.)1+', r'1', text)\n",
        "tweets['text'] = tweets['text'].apply(lambda x: filtering_repeating_char(x))\n",
        "tweets['text'].tail()"
      ],
      "execution_count": null,
      "outputs": [
        {
          "data": {
            "text/plain": [
              "19995    boundmethodStringMethodslowerpandascorestrings...\n",
              "19996    boundmethodStringMethodslowerpandascorestrings...\n",
              "19997    boundmethodStringMethodslowerpandascorestrings...\n",
              "19998    boundmethodStringMethodslowerpandascorestrings...\n",
              "19999    boundmethodStringMethodslowerpandascorestrings...\n",
              "Name: text, dtype: object"
            ]
          },
          "execution_count": 127,
          "metadata": {},
          "output_type": "execute_result"
        }
      ]
    },
    {
      "cell_type": "code",
      "metadata": {
        "id": "RSMm6GxQLdMo",
        "outputId": "b72f9d69-666e-4115-bcd0-5aa76698449d"
      },
      "source": [
        "#URL filteration\n",
        "def filtering_url(text):\n",
        "    return re.sub('((www.[^s]+)|(https?://[^s]+))',' ',text)\n",
        "tweets['text'] = tweets['text'].apply(lambda x: filtering_url(x))\n",
        "tweets['text'].tail()"
      ],
      "execution_count": null,
      "outputs": [
        {
          "data": {
            "text/plain": [
              "19995    boundmethodStringMethodslowerpandascorestrings...\n",
              "19996    boundmethodStringMethodslowerpandascorestrings...\n",
              "19997    boundmethodStringMethodslowerpandascorestrings...\n",
              "19998    boundmethodStringMethodslowerpandascorestrings...\n",
              "19999    boundmethodStringMethodslowerpandascorestrings...\n",
              "Name: text, dtype: object"
            ]
          },
          "execution_count": 130,
          "metadata": {},
          "output_type": "execute_result"
        }
      ]
    },
    {
      "cell_type": "code",
      "metadata": {
        "id": "pmSXqRaGLdMo",
        "outputId": "121e2cd5-8ad4-418c-c605-5eeb8e46fa27"
      },
      "source": [
        "#filtering Numeric numbers\n",
        "def filtering_numbers(data):\n",
        "    return re.sub('[0-9]+', '', data)\n",
        "tweets['text'] = tweets['text'].apply(lambda x: filtering_numbers(x))\n",
        "tweets['text'].tail()"
      ],
      "execution_count": null,
      "outputs": [
        {
          "data": {
            "text/plain": [
              "19995    boundmethodStringMethodslowerpandascorestrings...\n",
              "19996    boundmethodStringMethodslowerpandascorestrings...\n",
              "19997    boundmethodStringMethodslowerpandascorestrings...\n",
              "19998    boundmethodStringMethodslowerpandascorestrings...\n",
              "19999    boundmethodStringMethodslowerpandascorestrings...\n",
              "Name: text, dtype: object"
            ]
          },
          "execution_count": 131,
          "metadata": {},
          "output_type": "execute_result"
        }
      ]
    },
    {
      "cell_type": "code",
      "metadata": {
        "id": "j8ZhC4nkLdMp",
        "outputId": "474b2eef-676f-44b1-e8e4-9ea43e60b574"
      },
      "source": [
        "#tokenization of tweets\n",
        "tokenizer = RegexpTokenizer(r'w+')\n",
        "tweets['text'] = tweets['text'].apply(tokenizer.tokenize)\n",
        "tweets['text'].head()"
      ],
      "execution_count": null,
      "outputs": [
        {
          "data": {
            "text/plain": [
              "800000    [w]\n",
              "800001    [w]\n",
              "800002    [w]\n",
              "800003    [w]\n",
              "800004    [w]\n",
              "Name: text, dtype: object"
            ]
          },
          "execution_count": 134,
          "metadata": {},
          "output_type": "execute_result"
        }
      ]
    },
    {
      "cell_type": "code",
      "metadata": {
        "id": "TmT7tn5YLdMp",
        "outputId": "a3a7ea5d-cf77-4aef-f15b-6f1791a89b31"
      },
      "source": [
        "#stemming\n",
        "st = nltk.PorterStemmer()\n",
        "def stemming_text(data):\n",
        "    text = [st.stem(word) for word in data]\n",
        "    return data\n",
        "tweets['text']= tweets['text'].apply(lambda x: stemming_text(x))\n",
        "tweets['text'].head()"
      ],
      "execution_count": null,
      "outputs": [
        {
          "data": {
            "text/plain": [
              "800000    [w]\n",
              "800001    [w]\n",
              "800002    [w]\n",
              "800003    [w]\n",
              "800004    [w]\n",
              "Name: text, dtype: object"
            ]
          },
          "execution_count": 142,
          "metadata": {},
          "output_type": "execute_result"
        }
      ]
    },
    {
      "cell_type": "code",
      "metadata": {
        "id": "ByCSYt4HLdMp",
        "outputId": "eb527b16-91fd-4f25-8c94-60b92540d68a"
      },
      "source": [
        "#limitization\n",
        "lm = nltk.WordNetLemmatizer()\n",
        "def lemmatizer_text(data):\n",
        "    text = [lm.lemmatize(word) for word in data]\n",
        "    return data\n",
        "tweets['text'] = tweets['text'].apply(lambda x: lemmatizer_text(x))\n",
        "tweets['text'].head()\n"
      ],
      "execution_count": null,
      "outputs": [
        {
          "data": {
            "text/plain": [
              "800000    [w]\n",
              "800001    [w]\n",
              "800002    [w]\n",
              "800003    [w]\n",
              "800004    [w]\n",
              "Name: text, dtype: object"
            ]
          },
          "execution_count": 151,
          "metadata": {},
          "output_type": "execute_result"
        }
      ]
    },
    {
      "cell_type": "code",
      "metadata": {
        "id": "aJR3XhFVLdMp"
      },
      "source": [
        ""
      ],
      "execution_count": null,
      "outputs": []
    },
    {
      "cell_type": "code",
      "metadata": {
        "id": "_uVhEjrMLdMq"
      },
      "source": [
        ""
      ],
      "execution_count": null,
      "outputs": []
    },
    {
      "cell_type": "code",
      "metadata": {
        "id": "Vgqo9jYVLdMq"
      },
      "source": [
        "#vectorize tokens\n",
        "def token_vectorizer(train_tf):\n",
        "    vec = Tfidfvectorizer(subliner_tf=True)\n",
        "    vector.fit(train_ft)\n",
        "    return vec"
      ],
      "execution_count": null,
      "outputs": []
    },
    {
      "cell_type": "code",
      "metadata": {
        "id": "8cGZWDkPLdMq"
      },
      "source": [
        ""
      ],
      "execution_count": null,
      "outputs": []
    }
  ]
}