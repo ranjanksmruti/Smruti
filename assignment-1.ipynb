{
  "nbformat": 4,
  "nbformat_minor": 0,
  "metadata": {
    "colab": {
      "name": "Untitled1.ipynb",
      "provenance": []
    },
    "kernelspec": {
      "name": "python3",
      "display_name": "Python 3"
    },
    "language_info": {
      "name": "python"
    }
  },
  "cells": [
    {
      "cell_type": "code",
      "metadata": {
        "id": "8G0JbTqN0G5N"
      },
      "source": [
        "table_number = int(input(\"Enter the number: \"))\n",
        "\n",
        "for x in range(0,11):\n",
        "    z = table_number*x\n",
        "    \n",
        "    print(table_number, '*',x,'=',z)"
      ],
      "execution_count": null,
      "outputs": []
    },
    {
      "cell_type": "code",
      "metadata": {
        "id": "DYF6WiUS0cyE"
      },
      "source": [
        "ntural_no = int(input(\"Enter a natural number: \"))\n",
        "y = 0\n",
        "\n",
        "add = sum(range(0,ntural_no+1)) \n",
        "\n",
        "print(add)"
      ],
      "execution_count": null,
      "outputs": []
    },
    {
      "cell_type": "code",
      "metadata": {
        "id": "JVq0ZsXq0i2c"
      },
      "source": [
        "num = int(input(\"Enter a num: \"))\n",
        "facto = 1\n",
        "\n",
        "if num == 0:\n",
        "    print('1')\n",
        "elif num < 0:\n",
        "  print(\"Not a valid option\")\n",
        "else :\n",
        "  for n in range(1,num+1):\n",
        "    facto = n*facto\n",
        "    print(facto)"
      ],
      "execution_count": null,
      "outputs": []
    },
    {
      "cell_type": "code",
      "metadata": {
        "id": "Jm-NQ1Og-SOK"
      },
      "source": [
        ""
      ],
      "execution_count": null,
      "outputs": []
    }
  ]
}